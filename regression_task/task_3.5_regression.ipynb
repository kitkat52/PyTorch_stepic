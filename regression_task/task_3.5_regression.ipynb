{
  "nbformat": 4,
  "nbformat_minor": 0,
  "metadata": {
    "colab": {
      "name": "task_3.5_regression.ipynb",
      "provenance": [],
      "collapsed_sections": []
    },
    "kernelspec": {
      "name": "python3",
      "display_name": "Python 3"
    }
  },
  "cells": [
    {
      "cell_type": "code",
      "metadata": {
        "id": "OIhuRcLqNff4",
        "colab_type": "code",
        "colab": {}
      },
      "source": [
        "%matplotlib inline\n",
        "\n",
        "import matplotlib.pyplot as plt\n",
        "import matplotlib\n",
        "matplotlib.rcParams['figure.figsize'] = (13.0, 5.0)"
      ],
      "execution_count": 0,
      "outputs": []
    },
    {
      "cell_type": "code",
      "metadata": {
        "id": "NguPuDlmOCxV",
        "colab_type": "code",
        "colab": {}
      },
      "source": [
        "import torch"
      ],
      "execution_count": 0,
      "outputs": []
    },
    {
      "cell_type": "markdown",
      "metadata": {
        "id": "_6yezJrXORqY",
        "colab_type": "text"
      },
      "source": [
        "**Train Dataset**"
      ]
    },
    {
      "cell_type": "code",
      "metadata": {
        "id": "mvATmTbpOZ6g",
        "colab_type": "code",
        "outputId": "a19e7ff5-fa8c-41b0-cb8e-8477f4208e97",
        "colab": {
          "base_uri": "https://localhost:8080/",
          "height": 351
        }
      },
      "source": [
        "x_train = torch.linspace(-10, 5, 100)\n",
        "y_train = 2**x_train * torch.sin(2**-x_train)\n",
        "noise = torch.randn(y_train.shape) / 20.\n",
        "y_train = y_train + noise\n",
        "\n",
        "plt.plot(x_train.numpy(), y_train.numpy(), 'o')\n",
        "plt.title('Train Data');\n",
        "plt.xlabel('x_train')\n",
        "plt.ylabel('y_train');"
      ],
      "execution_count": 3,
      "outputs": [
        {
          "output_type": "display_data",
          "data": {
            "image/png": "[encoded data removed]",
            "text/plain": [
              "<Figure size 936x360 with 1 Axes>"
            ]
          },
          "metadata": {
            "tags": []
          }
        }
      ]
    },
    {
      "cell_type": "code",
      "metadata": {
        "id": "nU3TlUmzQiCQ",
        "colab_type": "code",
        "colab": {}
      },
      "source": [
        "x_train.unsqueeze_(1)\n",
        "y_train.unsqueeze_(1);"
      ],
      "execution_count": 0,
      "outputs": []
    },
    {
      "cell_type": "markdown",
      "metadata": {
        "id": "HqbcySF4RKfq",
        "colab_type": "text"
      },
      "source": [
        "**Validation Dataset**"
      ]
    },
    {
      "cell_type": "code",
      "metadata": {
        "id": "2yRQxQ1URIXK",
        "colab_type": "code",
        "outputId": "1a942a56-f806-4ebf-82fa-56181203c794",
        "colab": {
          "base_uri": "https://localhost:8080/",
          "height": 351
        }
      },
      "source": [
        "x_validation = torch.linspace(-10, 5, 100)\n",
        "y_validation = 2**x_validation * torch.sin(2**-x_validation)\n",
        "\n",
        "plt.plot(x_validation.numpy(), y_validation.numpy(), 'o')\n",
        "plt.title('Validation Data')\n",
        "plt.xlabel('x_validation')\n",
        "plt.ylabel('y_validation');"
      ],
      "execution_count": 5,
      "outputs": [
        {
          "output_type": "display_data",
          "data": {
            "image/png": "[encoded data removed]",
            "text/plain": [
              "<Figure size 936x360 with 1 Axes>"
            ]
          },
          "metadata": {
            "tags": []
          }
        }
      ]
    },
    {
      "cell_type": "code",
      "metadata": {
        "id": "nUeHjJG6R7Qo",
        "colab_type": "code",
        "colab": {}
      },
      "source": [
        "x_validation.unsqueeze_(1)\n",
        "y_validation.unsqueeze_(1);"
      ],
      "execution_count": 0,
      "outputs": []
    },
    {
      "cell_type": "markdown",
      "metadata": {
        "id": "-mHhmfBzSGHT",
        "colab_type": "text"
      },
      "source": [
        "**Model Construction**"
      ]
    },
    {
      "cell_type": "code",
      "metadata": {
        "id": "J2q8QH08SDN2",
        "colab_type": "code",
        "colab": {}
      },
      "source": [
        "class RegressionNet(torch.nn.Module):\n",
        "  def __init__(self, n_hid_neurons):\n",
        "    super(RegressionNet, self).__init__()\n",
        "    self.fc1  = torch.nn.Linear(1, n_hid_neurons)\n",
        "    self.act1 = torch.nn.Tanh()               \n",
        "    self.fc2  = torch.nn.Linear(n_hid_neurons, n_hid_neurons)\n",
        "    self.act2 = torch.nn.Tanh()               \n",
        "    self.fc3  = torch.nn.Linear(n_hid_neurons, 1)\n",
        "    \n",
        "  def forward(self, x):\n",
        "    x = self.fc1(x)\n",
        "    x = self.act1(x)\n",
        "    x = self.fc2(x)\n",
        "    x = self.act2(x)\n",
        "    x = self.fc3(x)\n",
        "    return x"
      ],
      "execution_count": 0,
      "outputs": []
    },
    {
      "cell_type": "code",
      "metadata": {
        "id": "vZqhktNpVQoR",
        "colab_type": "code",
        "colab": {}
      },
      "source": [
        "regress_net = RegressionNet(40)"
      ],
      "execution_count": 0,
      "outputs": []
    },
    {
      "cell_type": "markdown",
      "metadata": {
        "id": "vl2p7NIFVUuf",
        "colab_type": "text"
      },
      "source": [
        "**Prediction**"
      ]
    },
    {
      "cell_type": "code",
      "metadata": {
        "id": "hO93aXl6VXOH",
        "colab_type": "code",
        "colab": {}
      },
      "source": [
        "def predict(net, x, y):\n",
        "  y_pred = net.forward(x)\n",
        "\n",
        "  plt.plot(x.numpy(), y.numpy(), 'o', label='Ground Truth')\n",
        "  plt.plot(x.numpy(), y_pred.data.numpy(), 'o', c='r', label='Prediction');\n",
        "  plt.legend(loc='upper left')\n",
        "  plt.xlabel('$x$')\n",
        "  plt.ylabel('$y$')"
      ],
      "execution_count": 0,
      "outputs": []
    },
    {
      "cell_type": "markdown",
      "metadata": {
        "id": "qyoNvd0cZXw8",
        "colab_type": "text"
      },
      "source": [
        "**Optimizer**"
      ]
    },
    {
      "cell_type": "code",
      "metadata": {
        "id": "GtLRKU-iZbRF",
        "colab_type": "code",
        "colab": {}
      },
      "source": [
        "optimizer = torch.optim.Adam(regress_net.parameters(), lr=0.01)"
      ],
      "execution_count": 0,
      "outputs": []
    },
    {
      "cell_type": "markdown",
      "metadata": {
        "id": "mYiCOU9aZney",
        "colab_type": "text"
      },
      "source": [
        "**Loss Function**"
      ]
    },
    {
      "cell_type": "code",
      "metadata": {
        "id": "07i9zZnLZmhr",
        "colab_type": "code",
        "colab": {}
      },
      "source": [
        "def loss(pred, target):\n",
        "  squares = (pred - target) ** 2\n",
        "  return squares.mean()"
      ],
      "execution_count": 0,
      "outputs": []
    },
    {
      "cell_type": "markdown",
      "metadata": {
        "id": "_akj8o9qhbA4",
        "colab_type": "text"
      },
      "source": [
        "**Metric**"
      ]
    },
    {
      "cell_type": "code",
      "metadata": {
        "id": "y6Agu4tBhcvZ",
        "colab_type": "code",
        "colab": {}
      },
      "source": [
        "def metric(pred, target):\n",
        "    return (pred - target).abs().mean()"
      ],
      "execution_count": 0,
      "outputs": []
    },
    {
      "cell_type": "markdown",
      "metadata": {
        "id": "Dj88tUHmZ5VR",
        "colab_type": "text"
      },
      "source": [
        "**Training Procedure**"
      ]
    },
    {
      "cell_type": "code",
      "metadata": {
        "id": "bVffWaBbZ_Ar",
        "colab_type": "code",
        "outputId": "f36b8942-7ad1-434e-9245-08712b100fb3",
        "colab": {
          "base_uri": "https://localhost:8080/",
          "height": 187
        }
      },
      "source": [
        "for epoch_index in range(500):\n",
        "  optimizer.zero_grad()\n",
        "\n",
        "  y_pred = regress_net.forward(x_train)\n",
        "  loss_val = loss(y_pred, y_train)\n",
        "\n",
        "  loss_val.backward()\n",
        "  if epoch_index % 50 == 0:\n",
        "    print(epoch_index, loss_val.data)\n",
        "\n",
        "  optimizer.step()"
      ],
      "execution_count": 133,
      "outputs": [
        {
          "output_type": "stream",
          "text": [
            "0 tensor(0.4198)\n",
            "50 tensor(0.0060)\n",
            "100 tensor(0.0042)\n",
            "150 tensor(0.0040)\n",
            "200 tensor(0.0038)\n",
            "250 tensor(0.0036)\n",
            "300 tensor(0.0035)\n",
            "350 tensor(0.0033)\n",
            "400 tensor(0.0032)\n",
            "450 tensor(0.0031)\n"
          ],
          "name": "stdout"
        }
      ]
    },
    {
      "cell_type": "code",
      "metadata": {
        "id": "-lJNeIZyaYLg",
        "colab_type": "code",
        "outputId": "63114c2c-e548-449d-c071-31f51d76f695",
        "colab": {
          "base_uri": "https://localhost:8080/",
          "height": 334
        }
      },
      "source": [
        "predict(regress_net, x_validation, y_validation)"
      ],
      "execution_count": 134,
      "outputs": [
        {
          "output_type": "display_data",
          "data": {
            "image/png": "[encoded data removed]",
            "text/plain": [
              "<Figure size 936x360 with 1 Axes>"
            ]
          },
          "metadata": {
            "tags": []
          }
        }
      ]
    },
    {
      "cell_type": "code",
      "metadata": {
        "id": "VjMzum5LiMZN",
        "colab_type": "code",
        "outputId": "a8e5b487-c42a-4263-ef4a-e057d64dee46",
        "colab": {
          "base_uri": "https://localhost:8080/",
          "height": 34
        }
      },
      "source": [
        "print(metric(regress_net.forward(x_validation), y_validation).item())"
      ],
      "execution_count": 135,
      "outputs": [
        {
          "output_type": "stream",
          "text": [
            "0.017342884093523026\n"
          ],
          "name": "stdout"
        }
      ]
    }
  ]
}